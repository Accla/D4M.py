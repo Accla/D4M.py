{
 "cells": [
  {
   "cell_type": "code",
   "execution_count": 1,
   "metadata": {},
   "outputs": [],
   "source": [
    "%run /home/gridsan/hjananthan/PyD4M/D4M.ipynb"
   ]
  },
  {
   "cell_type": "markdown",
   "metadata": {},
   "source": [
    "## Creating Associative Arrays"
   ]
  },
  {
   "cell_type": "markdown",
   "metadata": {},
   "source": [
    "Hello! This is a test on the basic Assoc Array construction.  Associative Array takes on entries of triplets, and it will parse an array of substrings that is divided by char divider. --Please note that this divider is indicated as the last char in the string."
   ]
  },
  {
   "cell_type": "code",
   "execution_count": 2,
   "metadata": {},
   "outputs": [],
   "source": [
    "row = \"a,a,a,a,a,a,a,aa,aaa,b,bb,bbb,a,aa,aaa,b,bb,bbb,\"\n",
    "column = \"a,aa,aaa,b,bb,bbb,a,a,a,a,a,a,a,aa,aaa,b,bb,bbb,\"\n",
    "values = \"a-a,a-aa,a-aaa,a-b,a-bb,a-bbb,a-a,aa-a,aaa-a,b-a,bb-a,bbb-a,a-a,aa-aa,aaa-aaa,b-b,bb-bb,bbb-bbb,\"\n",
    "\n",
    "# Create assoc array and list triples\n",
    "A = Assoc(row,column,values)"
   ]
  },
  {
   "cell_type": "markdown",
   "metadata": {},
   "source": [
    "This is the data structure of the Associative Array Class"
   ]
  },
  {
   "cell_type": "code",
   "execution_count": 3,
   "metadata": {},
   "outputs": [
    {
     "name": "stdout",
     "output_type": "stream",
     "text": [
      "Row indices: ['a' 'aa' 'aaa' 'b' 'bb' 'bbb']\n",
      "Column indices: ['a' 'aa' 'aaa' 'b' 'bb' 'bbb']\n",
      "Values: ['a-a' 'a-aa' 'a-aaa' 'a-b' 'a-bb' 'a-bbb' 'aa-a' 'aa-aa' 'aaa-a'\n",
      " 'aaa-aaa' 'b-a' 'b-b' 'bb-a' 'bb-bb' 'bbb-a' 'bbb-bbb']\n",
      "Adjacency array: \n",
      "[[ 1  2  3  4  5  6]\n",
      " [ 7  8  0  0  0  0]\n",
      " [ 9  0 10  0  0  0]\n",
      " [11  0  0 12  0  0]\n",
      " [13  0  0  0 14  0]\n",
      " [15  0  0  0  0 16]]\n"
     ]
    }
   ],
   "source": [
    "print(A)"
   ]
  },
  {
   "cell_type": "markdown",
   "metadata": {},
   "source": [
    "The Assoc.printfull() method allows it to be printed in a tabular form."
   ]
  },
  {
   "cell_type": "code",
   "execution_count": 90,
   "metadata": {},
   "outputs": [
    {
     "name": "stdout",
     "output_type": "stream",
     "text": [
      "         a     aa      aaa    b     bb      bbb\n",
      "a      a-a   a-aa    a-aaa  a-b   a-bb    a-bbb\n",
      "aa    aa-a  aa-aa                              \n",
      "aaa  aaa-a         aaa-aaa                     \n",
      "b      b-a                  b-b                \n",
      "bb    bb-a                       bb-bb         \n",
      "bbb  bbb-a                              bbb-bbb\n"
     ]
    }
   ],
   "source": [
    "A.printfull()"
   ]
  },
  {
   "cell_type": "markdown",
   "metadata": {},
   "source": [
    "When written into CSV form, the data is stored in the tabular form"
   ]
  },
  {
   "cell_type": "code",
   "execution_count": 91,
   "metadata": {
    "collapsed": true
   },
   "outputs": [],
   "source": [
    "writeCSV(A,\"A.csv\")"
   ]
  },
  {
   "cell_type": "markdown",
   "metadata": {},
   "source": [
    "## Subreferencing of Associative Arrays"
   ]
  },
  {
   "cell_type": "markdown",
   "metadata": {},
   "source": [
    "Subarrays of Associative Arrays have much of the same syntax as with matrices.\n",
    "\n",
    "We start by reading our CSV file into an associative array."
   ]
  },
  {
   "cell_type": "code",
   "execution_count": 92,
   "metadata": {},
   "outputs": [
    {
     "name": "stdout",
     "output_type": "stream",
     "text": [
      "         a     aa      aaa    b     bb      bbb\n",
      "a      a-a   a-aa    a-aaa  a-b   a-bb    a-bbb\n",
      "aa    aa-a  aa-aa                              \n",
      "aaa  aaa-a         aaa-aaa                     \n",
      "b      b-a                  b-b                \n",
      "bb    bb-a                       bb-bb         \n",
      "bbb  bbb-a                              bbb-bbb\n"
     ]
    }
   ],
   "source": [
    "A = readCSV(\"A.csv\")\n",
    "A.printfull()"
   ]
  },
  {
   "cell_type": "markdown",
   "metadata": {},
   "source": [
    "Get rows a and b"
   ]
  },
  {
   "cell_type": "code",
   "execution_count": 93,
   "metadata": {},
   "outputs": [
    {
     "name": "stdout",
     "output_type": "stream",
     "text": [
      "     a    aa    aaa    b    bb    bbb\n",
      "a  a-a  a-aa  a-aaa  a-b  a-bb  a-bbb\n",
      "b  b-a               b-b             \n"
     ]
    }
   ],
   "source": [
    "A1r = A[\"a,b,\",:]\n",
    "A1r.printfull()"
   ]
  },
  {
   "cell_type": "markdown",
   "metadata": {},
   "source": [
    "Get rows containing a and columns 1 thru 3. (Note, this *includes* column 3.)"
   ]
  },
  {
   "cell_type": "code",
   "execution_count": 94,
   "metadata": {},
   "outputs": [
    {
     "name": "stdout",
     "output_type": "stream",
     "text": [
      "        aa      aaa    b\n",
      "a     a-aa    a-aaa  a-b\n",
      "aa   aa-aa              \n",
      "aaa         aaa-aaa     \n"
     ]
    },
    {
     "name": "stderr",
     "output_type": "stream",
     "text": [
      "/state/partition1/llgrid/pkg/anaconda2-5.0.1/lib/python2.7/site-packages/ipykernel/__main__.py:287: UserWarning: Slice objects here are inclusive on right endpoint.\n"
     ]
    }
   ],
   "source": [
    "A2r = A[contains(\"a,\"), 1:3]\n",
    "A2r.printfull()"
   ]
  },
  {
   "cell_type": "markdown",
   "metadata": {},
   "source": [
    "Get rows a to b"
   ]
  },
  {
   "cell_type": "code",
   "execution_count": 95,
   "metadata": {},
   "outputs": [
    {
     "name": "stdout",
     "output_type": "stream",
     "text": [
      "         a     aa      aaa    b    bb    bbb\n",
      "a      a-a   a-aa    a-aaa  a-b  a-bb  a-bbb\n",
      "aa    aa-a  aa-aa                           \n",
      "aaa  aaa-a         aaa-aaa                  \n",
      "b      b-a                  b-b             \n"
     ]
    }
   ],
   "source": [
    "A3r = A[\"a,:,b,\",:]\n",
    "A3r.printfull()"
   ]
  },
  {
   "cell_type": "markdown",
   "metadata": {},
   "source": [
    "Get rows starting with a or c"
   ]
  },
  {
   "cell_type": "code",
   "execution_count": 96,
   "metadata": {},
   "outputs": [
    {
     "name": "stdout",
     "output_type": "stream",
     "text": [
      "         a     aa      aaa    b    bb    bbb\n",
      "a      a-a   a-aa    a-aaa  a-b  a-bb  a-bbb\n",
      "aa    aa-a  aa-aa                           \n",
      "aaa  aaa-a         aaa-aaa                  \n"
     ]
    }
   ],
   "source": [
    "A4r = A[startswith(\"a,c,\"),:]\n",
    "A4r.printfull()"
   ]
  },
  {
   "cell_type": "markdown",
   "metadata": {},
   "source": [
    "Get cols a and b"
   ]
  },
  {
   "cell_type": "code",
   "execution_count": 14,
   "metadata": {},
   "outputs": [
    {
     "name": "stdout",
     "output_type": "stream",
     "text": [
      "         a    b\n",
      "a      a-a  a-b\n",
      "aa    aa-a     \n",
      "aaa  aaa-a     \n",
      "b      b-a  b-b\n",
      "bb    bb-a     \n",
      "bbb  bbb-a     \n"
     ]
    }
   ],
   "source": [
    "A1c = A[:,\"a,b,\"]\n",
    "A1c.printfull()"
   ]
  },
  {
   "cell_type": "markdown",
   "metadata": {},
   "source": [
    "Get rows 1 thru 3 and cols containing a."
   ]
  },
  {
   "cell_type": "code",
   "execution_count": 15,
   "metadata": {},
   "outputs": [
    {
     "name": "stdout",
     "output_type": "stream",
     "text": [
      "         a     aa      aaa\n",
      "aa    aa-a  aa-aa         \n",
      "aaa  aaa-a         aaa-aaa\n",
      "b      b-a                \n"
     ]
    },
    {
     "name": "stderr",
     "output_type": "stream",
     "text": [
      "/state/partition1/llgrid/pkg/anaconda2-5.0.1/lib/python2.7/site-packages/ipykernel/__main__.py:267: UserWarning: Slice objects here are inclusive on right endpoint.\n"
     ]
    }
   ],
   "source": [
    "A2c = A[1:3,contains(\"a,\")]\n",
    "A2c.printfull()"
   ]
  },
  {
   "cell_type": "markdown",
   "metadata": {},
   "source": [
    "Get cols ab to c."
   ]
  },
  {
   "cell_type": "code",
   "execution_count": 16,
   "metadata": {},
   "outputs": [
    {
     "name": "stdout",
     "output_type": "stream",
     "text": [
      "       b     bb      bbb\n",
      "a    a-b   a-bb    a-bbb\n",
      "b    b-b                \n",
      "bb        bb-bb         \n",
      "bbb              bbb-bbb\n"
     ]
    }
   ],
   "source": [
    "A3c = A[:,\"ab,:,c,\"]\n",
    "A3c.printfull()"
   ]
  },
  {
   "cell_type": "markdown",
   "metadata": {},
   "source": [
    "Get cols starting with a or b."
   ]
  },
  {
   "cell_type": "code",
   "execution_count": 17,
   "metadata": {},
   "outputs": [
    {
     "name": "stdout",
     "output_type": "stream",
     "text": [
      "         a     aa      aaa    b     bb      bbb\n",
      "a      a-a   a-aa    a-aaa  a-b   a-bb    a-bbb\n",
      "aa    aa-a  aa-aa                              \n",
      "aaa  aaa-a         aaa-aaa                     \n",
      "b      b-a                  b-b                \n",
      "bb    bb-a                       bb-bb         \n",
      "bbb  bbb-a                              bbb-bbb\n"
     ]
    }
   ],
   "source": [
    "A4c = A[:,startswith(\"a,b,\")]\n",
    "A4c.printfull()"
   ]
  },
  {
   "cell_type": "markdown",
   "metadata": {},
   "source": [
    "## Mathematical Operations on Associative Arrays"
   ]
  },
  {
   "cell_type": "markdown",
   "metadata": {},
   "source": [
    "This file demos some of the mathematical operations on Associative Array.\n",
    "\n",
    "First we read our CSV file into an associative array again."
   ]
  },
  {
   "cell_type": "code",
   "execution_count": 18,
   "metadata": {},
   "outputs": [
    {
     "name": "stdout",
     "output_type": "stream",
     "text": [
      "         a     aa      aaa    b     bb      bbb\n",
      "a      a-a   a-aa    a-aaa  a-b   a-bb    a-bbb\n",
      "aa    aa-a  aa-aa                              \n",
      "aaa  aaa-a         aaa-aaa                     \n",
      "b      b-a                  b-b                \n",
      "bb    bb-a                       bb-bb         \n",
      "bbb  bbb-a                              bbb-bbb\n"
     ]
    }
   ],
   "source": [
    "A = readCSV(\"A.csv\")\n",
    "A.printfull()"
   ]
  },
  {
   "cell_type": "markdown",
   "metadata": {},
   "source": [
    "For the purposes of performing mathematical operations, the string values of A must be replaced with real numbers. The .logical method gives a new array with 1's at each entry of the sparse matrix whch contained a non-zero value, and 0 otherwise."
   ]
  },
  {
   "cell_type": "code",
   "execution_count": 13,
   "metadata": {},
   "outputs": [
    {
     "name": "stdout",
     "output_type": "stream",
     "text": [
      "       a aa aaa  b bb bbb\n",
      "a    1.0  1   1  1  1   1\n",
      "aa   1.0  1              \n",
      "aaa  1.0      1          \n",
      "b    1.0         1       \n",
      "bb   1.0            1    \n",
      "bbb  1.0                1\n"
     ]
    }
   ],
   "source": [
    "A = A.logical()\n",
    "A.printfull()"
   ]
  },
  {
   "cell_type": "markdown",
   "metadata": {},
   "source": [
    "Sum down rows and across columns"
   ]
  },
  {
   "cell_type": "code",
   "execution_count": 14,
   "metadata": {},
   "outputs": [
    {
     "name": "stdout",
     "output_type": "stream",
     "text": [
      "Row indices: [0]\n",
      "Column indices: ['a' 'aa' 'aaa' 'b' 'bb' 'bbb']\n",
      "Values: 1.0\n",
      "Adjacency array: \n",
      "[[6 2 2 2 2 2]]\n",
      "Row indices: ['a' 'aa' 'aaa' 'b' 'bb' 'bbb']\n",
      "Column indices: [0]\n",
      "Values: 1.0\n",
      "Adjacency array: \n",
      "[[6]\n",
      " [2]\n",
      " [2]\n",
      " [2]\n",
      " [2]\n",
      " [2]]\n"
     ]
    }
   ],
   "source": [
    "print(A.sum(0))\n",
    "print(A.sum(1))"
   ]
  },
  {
   "cell_type": "markdown",
   "metadata": {},
   "source": [
    "Compute a simple join"
   ]
  },
  {
   "cell_type": "code",
   "execution_count": 15,
   "metadata": {
    "collapsed": true
   },
   "outputs": [],
   "source": [
    "Aa = A[:,\"a,\"]\n",
    "Ab = A[:,\"b,\"]\n",
    "Aab = Aa.nocol() & Ab.nocol()"
   ]
  },
  {
   "cell_type": "markdown",
   "metadata": {},
   "source": [
    "Compute a histogram (facets) of other columns that are in rows with both a and b"
   ]
  },
  {
   "cell_type": "code",
   "execution_count": 22,
   "metadata": {},
   "outputs": [
    {
     "name": "stdout",
     "output_type": "stream",
     "text": [
      "   a  aa  aaa  b  bb  bbb\n",
      "0  2   1    1  2   1    1\n"
     ]
    }
   ],
   "source": [
    "F = Aab.transpose() * A\n",
    "F.printfull()"
   ]
  },
  {
   "cell_type": "markdown",
   "metadata": {},
   "source": [
    "Compute normalized histogram"
   ]
  },
  {
   "cell_type": "code",
   "execution_count": 23,
   "metadata": {},
   "outputs": [
    {
     "name": "stdout",
     "output_type": "stream",
     "text": [
      "          a   aa  aaa    b   bb  bbb\n",
      "0  0.333333  0.5  0.5  1.0  0.5  0.5\n"
     ]
    }
   ],
   "source": [
    "Fn = F.divide(A.sum(0))\n",
    "Fn.printfull()"
   ]
  },
  {
   "cell_type": "markdown",
   "metadata": {},
   "source": [
    "Compute correlation"
   ]
  },
  {
   "cell_type": "code",
   "execution_count": 16,
   "metadata": {},
   "outputs": [
    {
     "name": "stdout",
     "output_type": "stream",
     "text": [
      "     a aa aaa  b bb bbb\n",
      "a       2   2  2  2   2\n",
      "aa   2      1  1  1   1\n",
      "aaa  2  1      1  1   1\n",
      "b    2  1   1     1   1\n",
      "bb   2  1   1  1      1\n",
      "bbb  2  1   1  1  1    \n"
     ]
    }
   ],
   "source": [
    "AtA = A.sqin()\n",
    "d = AtA.adj.diagonal()\n",
    "AtA = AtA.setadj(AtA.adj - diags(d, shape = AtA.adj.shape))\n",
    "AtA.printfull()"
   ]
  }
 ],
 "metadata": {
  "kernelspec": {
   "display_name": "Python [conda root]",
   "language": "python",
   "name": "conda-root-py"
  },
  "language_info": {
   "codemirror_mode": {
    "name": "ipython",
    "version": 2
   },
   "file_extension": ".py",
   "mimetype": "text/x-python",
   "name": "python",
   "nbconvert_exporter": "python",
   "pygments_lexer": "ipython2",
   "version": "2.7.14"
  },
  "latex_envs": {
   "LaTeX_envs_menu_present": true,
   "autoclose": false,
   "autocomplete": true,
   "bibliofile": "biblio.bib",
   "cite_by": "apalike",
   "current_citInitial": 1,
   "eqLabelWithNumbers": true,
   "eqNumInitial": 1,
   "hotkeys": {
    "equation": "Ctrl-E",
    "itemize": "Ctrl-I"
   },
   "labels_anchors": false,
   "latex_user_defs": false,
   "report_style_numbering": false,
   "user_envs_cfg": false
  },
  "toc": {
   "base_numbering": 1,
   "nav_menu": {
    "height": "304px",
    "width": "240px"
   },
   "number_sections": true,
   "sideBar": true,
   "skip_h1_title": false,
   "title_cell": "Table of Contents",
   "title_sidebar": "Contents",
   "toc_cell": false,
   "toc_position": {},
   "toc_section_display": "block",
   "toc_window_display": false
  },
  "varInspector": {
   "cols": {
    "lenName": 16,
    "lenType": 16,
    "lenVar": 40
   },
   "kernels_config": {
    "python": {
     "delete_cmd_postfix": "",
     "delete_cmd_prefix": "del ",
     "library": "var_list.py",
     "varRefreshCmd": "print(var_dic_list())"
    },
    "r": {
     "delete_cmd_postfix": ") ",
     "delete_cmd_prefix": "rm(",
     "library": "var_list.r",
     "varRefreshCmd": "cat(var_dic_list()) "
    }
   },
   "types_to_exclude": [
    "module",
    "function",
    "builtin_function_or_method",
    "instance",
    "_Feature"
   ],
   "window_display": false
  }
 },
 "nbformat": 4,
 "nbformat_minor": 2
}
